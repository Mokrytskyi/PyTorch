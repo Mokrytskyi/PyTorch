{
  "nbformat": 4,
  "nbformat_minor": 0,
  "metadata": {
    "colab": {
      "provenance": [],
      "gpuType": "T4",
      "authorship_tag": "ABX9TyO7yzUpYthnCRPVFpWJfgej",
      "include_colab_link": true
    },
    "kernelspec": {
      "name": "python3",
      "display_name": "Python 3"
    },
    "language_info": {
      "name": "python"
    },
    "accelerator": "GPU"
  },
  "cells": [
    {
      "cell_type": "markdown",
      "metadata": {
        "id": "view-in-github",
        "colab_type": "text"
      },
      "source": [
        "<a href=\"https://colab.research.google.com/github/Mokrytskyi/PyTorch/blob/main/01_model_LinearRegression.ipynb\" target=\"_parent\"><img src=\"https://colab.research.google.com/assets/colab-badge.svg\" alt=\"Open In Colab\"/></a>"
      ]
    },
    {
      "cell_type": "code",
      "source": [
        "import torch\n",
        "\n",
        "### 1. Data (preparing and loading)\n",
        "\n",
        "# Data can be almost anything... in machine learning\n",
        "# * Excel speadsheet\n",
        "# * Images of any kind\n",
        "# * Videos (YouTube has lots of data...)\n",
        "# * DNA ()\n",
        "# * Text\n",
        "\n",
        "# Machine learning is a game of two parts:\n",
        "# 1. Get data into a numerical representation\n",
        "# 2. Build a model to learn patterns in that numerical representation\n",
        "\n",
        "# To showcase this, let's create some *known* data using the linear regression formula. ( Y = bX + a )\n",
        "# We'll use a linear regression formula to make a straight line with *known* **parameters**\n",
        "\n",
        "# Create *known* parameters\n",
        "weight = 0.7\n",
        "bias = 0.3\n",
        " \n",
        "#Create\n",
        "start = 0\n",
        "end = 1\n",
        "step = 0.02\n",
        "X = torch.arange(start,end,step).unsqueeze(dim=1)\n",
        "\n",
        "y = weight * X + bias\n",
        "\n",
        "print(f\"X : {X[:10]}\")\n",
        "print(f\"y : {y[:10]}\")\n",
        "print(len(X), len(y))"
      ],
      "metadata": {
        "colab": {
          "base_uri": "https://localhost:8080/"
        },
        "id": "1uNiHau7tryy",
        "outputId": "9dc4115b-8a20-4c95-8602-857c2e3fc1c1"
      },
      "execution_count": null,
      "outputs": [
        {
          "output_type": "stream",
          "name": "stdout",
          "text": [
            "X : tensor([[0.0000],\n",
            "        [0.0200],\n",
            "        [0.0400],\n",
            "        [0.0600],\n",
            "        [0.0800],\n",
            "        [0.1000],\n",
            "        [0.1200],\n",
            "        [0.1400],\n",
            "        [0.1600],\n",
            "        [0.1800]])\n",
            "y : tensor([[0.3000],\n",
            "        [0.3140],\n",
            "        [0.3280],\n",
            "        [0.3420],\n",
            "        [0.3560],\n",
            "        [0.3700],\n",
            "        [0.3840],\n",
            "        [0.3980],\n",
            "        [0.4120],\n",
            "        [0.4260]])\n",
            "50 50\n"
          ]
        }
      ]
    },
    {
      "cell_type": "code",
      "source": [
        "# Splitting data into training and test sets (one of the most important concepts in machine learning in genearal)\n",
        "#Let's create a training and test set with our data\n",
        "\n",
        "#Create a train/test split\n",
        "train_split = int(0.8 * len(X)) #80% from X\n",
        "X_train, y_train = X[:train_split], y[:train_split]\n",
        "X_test, y_test = X[train_split:], y[train_split:] # here ex. X[train_split:] means all after trainsplit , in our case 20%\n",
        "print(len(X_train),len(y_train),len(X_test),len(y_test))"
      ],
      "metadata": {
        "colab": {
          "base_uri": "https://localhost:8080/"
        },
        "id": "0T0jpqzptwlf",
        "outputId": "1bd62d44-a4b1-4b18-b919-e351afd7ead6"
      },
      "execution_count": null,
      "outputs": [
        {
          "output_type": "stream",
          "name": "stdout",
          "text": [
            "40 40 10 10\n"
          ]
        }
      ]
    },
    {
      "cell_type": "code",
      "source": [
        "# How might we better visualize our data?\n",
        "# This is where the data explorer's motto comes in!\n",
        "# \"Visualize, visualize , visualize!\"\n",
        "\n",
        "import matplotlib.pyplot as plt\n",
        "\n",
        "def plot_predictions(train_data=X_train,\n",
        "\t\t\t\t\t train_labels=y_train,\n",
        "\t\t\t\t\t test_data=X_test,\n",
        "\t\t\t\t\t test_labels=y_test,\n",
        "\t\t\t\t\t predictions=None):\n",
        "\t\"\"\"Plots training data , test data and compares presictions\"\"\"\n",
        "\tplt.figure(figsize=(10,7))\n",
        "\n",
        "\t# Plot training data in blue\n",
        "\tplt.scatter(train_data,train_labels,c=\"b\",s=5,label=\"Training data\")\n",
        "\n",
        "\t# Plot test data in green\n",
        "\tplt.scatter(test_data,test_labels,c=\"g\",s=5,label=\"Testing data\")\n",
        "\n",
        "\t#Are there predictions?\n",
        "\tif predictions is not None:\n",
        "\t\t# PLot the predictions if they exist\n",
        "\t\tplt.scatter(test_data,predictions,c=\"r\",s=5,label=\"Predictinos data\")\n",
        "\t#Show the legend\n",
        "\tplt.legend(prop={\"size\":14})\n",
        "\n",
        "plot_predictions()"
      ],
      "metadata": {
        "colab": {
          "base_uri": "https://localhost:8080/",
          "height": 599
        },
        "id": "no4yQLkeuC9Y",
        "outputId": "a6c392d5-c8d2-44a2-979a-1adc7c5e48d6"
      },
      "execution_count": null,
      "outputs": [
        {
          "output_type": "display_data",
          "data": {
            "text/plain": [
              "<Figure size 1000x700 with 1 Axes>"
            ],
            "image/png": "[encoded data removed]"
          },
          "metadata": {}
        }
      ]
    },
    {
      "cell_type": "code",
      "source": [
        "### 2. Build model\n",
        "# My first PyTorch model\n",
        "# it is really interesting ...\n",
        "\n",
        "########################################################################################################\n",
        "# What our model does:\n",
        "# * Strart with random values (weight & bias)\n",
        "# * Look at training data and adjust the random values to better represent (or get closer to) the ideal \n",
        "# values (the weight & bias values we used to create the data)\n",
        "########################################################################################################\n",
        "\n",
        "###############################\n",
        "# How does it do so?\n",
        "\n",
        "# Throught two main algorithms:\n",
        "# 1. Gradient descent\n",
        "# 2. Backpropagation\n",
        "###############################\n",
        "\n",
        "\n",
        "import torch\n",
        "from torch import nn\n",
        "\n",
        "class LinearRegressionModel(nn.Module):\n",
        "\n",
        "\tdef __init__(self):\n",
        "\t\tsuper().__init__()\n",
        "\t\tself.weights = nn.Parameter(torch.randn(1,\n",
        "\t\t\t\t\t\t\t\t\t\t\t\trequires_grad=True,\n",
        "\t\t\t\t\t\t\t\t\t\t\t\tdtype=torch.float32))\n",
        "\n",
        "\t\tself.bias = nn.Parameter(torch.randn(1,\n",
        "\t\t\t\t\t\t\t\t\t\t\t requires_grad=True,\n",
        "\t\t\t\t\t\t\t\t\t\t\t dtype=torch.float32))\n",
        " \n",
        "\tdef forward(self, x: torch.Tensor) -> torch.Tensor:\n",
        "\t\treturn self.weights * x + self.bias"
      ],
      "metadata": {
        "id": "NNLFEvTvrdkb"
      },
      "execution_count": null,
      "outputs": []
    },
    {
      "cell_type": "code",
      "source": [
        "# Create a random seed\n",
        "torch.manual_seed(42)\n",
        "\n",
        "# Create an instance of the model (this is a subclass of nn.Module)\n",
        "model_0 = LinearRegressionModel()\n",
        "#Check out the parameters\n",
        "print(list(model_0.parameters()))\n"
      ],
      "metadata": {
        "colab": {
          "base_uri": "https://localhost:8080/"
        },
        "id": "nhJy2CHxsO-Q",
        "outputId": "8831568c-ec95-42be-bb48-1eca13a05a0d"
      },
      "execution_count": null,
      "outputs": [
        {
          "output_type": "stream",
          "name": "stdout",
          "text": [
            "[Parameter containing:\n",
            "tensor([0.3367], requires_grad=True), Parameter containing:\n",
            "tensor([0.1288], requires_grad=True)]\n"
          ]
        }
      ]
    },
    {
      "cell_type": "code",
      "source": [
        "# List named parameters\n",
        "model_0.state_dict()"
      ],
      "metadata": {
        "colab": {
          "base_uri": "https://localhost:8080/"
        },
        "id": "_nCUvwIptM2l",
        "outputId": "b2739244-7293-4591-acdf-5141f2033043"
      },
      "execution_count": null,
      "outputs": [
        {
          "output_type": "execute_result",
          "data": {
            "text/plain": [
              "OrderedDict([('weights', tensor([0.3367])), ('bias', tensor([0.1288]))])"
            ]
          },
          "metadata": {},
          "execution_count": 6
        }
      ]
    },
    {
      "cell_type": "markdown",
      "source": [
        "### Making predictions using 'torch.inference_mode()'\n",
        "\n",
        "To check our model's predictive power, let's see how well it predicts 'y_test' based on 'X_test'.\n",
        "\n",
        "When we pass data through our model, it's going to run it through the 'forward()' method."
      ],
      "metadata": {
        "id": "Ew6R0dHbxv0-"
      }
    },
    {
      "cell_type": "code",
      "source": [
        "# Make predictions with model\n",
        "with torch.inference_mode():\n",
        "  y_predc = model_0(X_test)\n",
        "\n",
        "# You can also do something similar with torch.no_grad(), howewer , torch.inference_mode() is prefered\n",
        "with torch.no_grad():\n",
        "  y_predc = model_0(X_test)\n",
        "\n",
        "y_predc"
      ],
      "metadata": {
        "colab": {
          "base_uri": "https://localhost:8080/"
        },
        "id": "y22iFkkIvEqd",
        "outputId": "19f92057-caf7-45f8-d583-898a7186fb2b"
      },
      "execution_count": null,
      "outputs": [
        {
          "output_type": "execute_result",
          "data": {
            "text/plain": [
              "tensor([[0.3982],\n",
              "        [0.4049],\n",
              "        [0.4116],\n",
              "        [0.4184],\n",
              "        [0.4251],\n",
              "        [0.4318],\n",
              "        [0.4386],\n",
              "        [0.4453],\n",
              "        [0.4520],\n",
              "        [0.4588]])"
            ]
          },
          "metadata": {},
          "execution_count": 7
        }
      ]
    },
    {
      "cell_type": "code",
      "source": [
        "plot_predictions(predictions=y_predc)"
      ],
      "metadata": {
        "colab": {
          "base_uri": "https://localhost:8080/",
          "height": 599
        },
        "id": "25Qg-cUZ1Rxz",
        "outputId": "08335055-d158-4748-ccc6-05ec297a4fb1"
      },
      "execution_count": null,
      "outputs": [
        {
          "output_type": "display_data",
          "data": {
            "text/plain": [
              "<Figure size 1000x700 with 1 Axes>"
            ],
            "image/png": "[encoded data removed]"
          },
          "metadata": {}
        }
      ]
    },
    {
      "cell_type": "markdown",
      "source": [
        "### 3. Train model\n",
        "\n",
        "The whole idea of training is for a model to move from some *unknown* parameters(these may be random) to some known paraeters.\n",
        "\n",
        "Or in other words from a poor representation of the data to a better representation of the data.\n",
        "\n",
        "One way to measure or how wrong your preddictions are is to use a loss function\n",
        "\n",
        "* Note: loss function may also be called cost function or criterion in different areas, in our case we are going to it as a loss function\n",
        "\n",
        "Things we need to train:\n",
        "\n",
        "* **Loss function:** A function to measure how wrong your model's prediction are to the ideal outputs, lower is better\n",
        "* **Optimizer:** Takes into the loss and adjusts the model's parameters (e.g. weight & bias) to improve the loss function.\n",
        "\n",
        "And specifically, we need:\n",
        "* A training loop\n",
        "* A testing loop\n",
        "\n",
        "**Inside the optimizer** you'll often have to set two parameters:\n",
        "* params - the model parameters you'd like to optimize, for example *params=model_0.parameters*\n",
        "* lr (learning rate) - the learning rate is a hyperparameter that defines how big/small the optimizer changes the parameters with each step (a smal *lr* results in small changes, a large *lr* results in large changes)"
      ],
      "metadata": {
        "id": "ifF62IaUjKoz"
      }
    },
    {
      "cell_type": "code",
      "source": [
        "list(model_0.parameters())"
      ],
      "metadata": {
        "colab": {
          "base_uri": "https://localhost:8080/"
        },
        "id": "apZha-eXlqrZ",
        "outputId": "3e04ea0b-01c8-4a00-ce04-d70062a67afb"
      },
      "execution_count": null,
      "outputs": [
        {
          "output_type": "execute_result",
          "data": {
            "text/plain": [
              "[Parameter containing:\n",
              " tensor([0.3367], requires_grad=True),\n",
              " Parameter containing:\n",
              " tensor([0.1288], requires_grad=True)]"
            ]
          },
          "metadata": {},
          "execution_count": 9
        }
      ]
    },
    {
      "cell_type": "code",
      "source": [
        "# Check out our model's parameters (a parameter is a value that the model sets itself)\n",
        "model_0.state_dict()"
      ],
      "metadata": {
        "colab": {
          "base_uri": "https://localhost:8080/"
        },
        "id": "3vV4RI7kpMu9",
        "outputId": "daf1aae4-1986-4300-c3ee-1fc78f708ee5"
      },
      "execution_count": null,
      "outputs": [
        {
          "output_type": "execute_result",
          "data": {
            "text/plain": [
              "OrderedDict([('weights', tensor([0.3367])), ('bias', tensor([0.1288]))])"
            ]
          },
          "metadata": {},
          "execution_count": 10
        }
      ]
    },
    {
      "cell_type": "code",
      "source": [
        "# Setup a loss function\n",
        "loss_fn = nn.L1Loss()\n",
        "\n",
        "# Setup an optimizer (stochastic gradient descent)\n",
        "optimizer = torch.optim.SGD(params = model_0.parameters(),\n",
        "                            lr = 0.0001) # lr = learning rate = possibly the most important hyperparameter you can set"
      ],
      "metadata": {
        "id": "6mxLkrfVfcqR"
      },
      "execution_count": null,
      "outputs": []
    },
    {
      "cell_type": "markdown",
      "source": [
        "### Building a Training Loop (And a Testing Loop) in PyTorch\n",
        "\n",
        "A couple of things we need in a training loop:\n",
        "0. Look through the data and do ...\n",
        "1. Forward pass (this involves data moving through our model's `forward()` functions) to make predictionss on data. - also called forward propagation\n",
        "2. Calculate the loss (compare forward pass predictions to ground truth labels)\n",
        "3. Optimizer zero grad\n",
        "4. Loss backward - move backwards through the network to calculate the gradients of each of the parameters of our model with respect to the loss (**backpropagation**)\n",
        "5. Optimizer step - use the optimizer to adjust our model's parameters to try and improve the loss (**gradient descent**)\n"
      ],
      "metadata": {
        "id": "xGY2yrfNAwj3"
      }
    },
    {
      "cell_type": "code",
      "source": [
        "# An epoch is one loop through the data... (this is a hyperparameter because we've set it ourselves)\n",
        "torch.manual_seed(42)\n",
        "epochs = 10000\n",
        "\n",
        "# Track different values\n",
        "epoch_count = []\n",
        "loss_values = []\n",
        "test_loss_values = []\n",
        "\n",
        "### Training\n",
        "# 0. Loop through the data\n",
        "for epoch in range(epochs) :\n",
        "  # Set the model to training mode\n",
        "  model_0.train() # train mode in PyTorch sets all parameters that require gradients to require gradients\n",
        "\n",
        "  # 1. Forward pass\n",
        "  y_pred = model_0(X_train)\n",
        "\n",
        "  # 2. Calculate a Loss\n",
        "  loss = loss_fn(y_pred, y_train)\n",
        "\n",
        "  # 3. Optimizer Zero Grad\n",
        "  optimizer.zero_grad()\n",
        "\n",
        "  # 4. Perform backpropagation on the loss with respect to the parameters of the model\n",
        "  loss.backward()\n",
        "\n",
        "  # 5. Step the optimizer (perform gradient descent)\n",
        "  optimizer.step() # by default how the optimizer changes will accumulate throught the loop so.. we have to zero them above in step 3 for the next iteration of the loop\n",
        "\n",
        "  ### Testing\n",
        "  model_0.eval() # turns off different things in the model not needed for evaluaiton/testing (dropout/batch borm layers)\n",
        "  with torch.inference_mode(): # turns off gradient tracking\n",
        "    # 1. Do the forward pass\n",
        "    test_pred = model_0(X_test)\n",
        "\n",
        "    # 2. Calculate a Loss\n",
        "    test_loss = loss_fn(test_pred,y_test)\n",
        "\n",
        "  epoch_count.append(1)\n",
        "  loss_values.append(loss)\n",
        "  test_loss_values.append(test_loss)\n",
        "\n",
        "\n",
        "# Print out what happening\n",
        "\n",
        "print(f\"Epochs : {len(epoch_count)}\")\n",
        "print(f\"Test loss : {loss_values[-1]}\")\n",
        "print(f\"Loss : {test_loss_values[-1]}\")"
      ],
      "metadata": {
        "id": "hRyCHcmeiPuZ",
        "colab": {
          "base_uri": "https://localhost:8080/"
        },
        "outputId": "e762dfa9-4d49-41f9-b176-bb87c1342f9e"
      },
      "execution_count": null,
      "outputs": [
        {
          "output_type": "stream",
          "name": "stdout",
          "text": [
            "Epochs : 10000\n",
            "Test loss : 0.024342099204659462\n",
            "Loss : 0.056908827275037766\n"
          ]
        }
      ]
    },
    {
      "cell_type": "code",
      "source": [
        "model_0.state_dict()"
      ],
      "metadata": {
        "colab": {
          "base_uri": "https://localhost:8080/"
        },
        "id": "aEIMauRe9Z7w",
        "outputId": "651aacda-28f2-42fb-c68e-170f08c5590e"
      },
      "execution_count": null,
      "outputs": [
        {
          "output_type": "execute_result",
          "data": {
            "text/plain": [
              "OrderedDict([('weights', tensor([0.5789])), ('bias', tensor([0.3509]))])"
            ]
          },
          "metadata": {},
          "execution_count": 13
        }
      ]
    },
    {
      "cell_type": "code",
      "source": [
        "with torch.inference_mode():\n",
        "  y_preds = model_0(X_test)\n",
        "y_preds"
      ],
      "metadata": {
        "colab": {
          "base_uri": "https://localhost:8080/"
        },
        "id": "XTi3kIgF-PM0",
        "outputId": "f718bf0b-f140-4955-f38d-c4f2c7860380"
      },
      "execution_count": null,
      "outputs": [
        {
          "output_type": "execute_result",
          "data": {
            "text/plain": [
              "tensor([[0.8140],\n",
              "        [0.8256],\n",
              "        [0.8371],\n",
              "        [0.8487],\n",
              "        [0.8603],\n",
              "        [0.8719],\n",
              "        [0.8835],\n",
              "        [0.8950],\n",
              "        [0.9066],\n",
              "        [0.9182]])"
            ]
          },
          "metadata": {},
          "execution_count": 14
        }
      ]
    },
    {
      "cell_type": "code",
      "source": [
        "plot_predictions(predictions=y_preds)"
      ],
      "metadata": {
        "colab": {
          "base_uri": "https://localhost:8080/",
          "height": 599
        },
        "id": "-3XTYTPXDM0I",
        "outputId": "d8a987a4-ad3c-49fc-9d7f-816d38799213"
      },
      "execution_count": null,
      "outputs": [
        {
          "output_type": "display_data",
          "data": {
            "text/plain": [
              "<Figure size 1000x700 with 1 Axes>"
            ],
            "image/png": "[encoded data removed]"
          },
          "metadata": {}
        }
      ]
    },
    {
      "cell_type": "markdown",
      "source": [
        "## Saving a model in PyTorch\n",
        "\n",
        "There are three main methods you should know about for saving and loading models in PyTorch.\n",
        "\n",
        "1.`torch.save()` - allows you save a PyTorch object in Pyton's pickle format\n",
        "\n",
        "2.`torch.load()` - allows you load a saved PyTorch object\n",
        "\n",
        "3.`torch.n.Module.load_state_dict()` - this allows you to load a model's saved state deictionary\n",
        "\n",
        "PyToch save & load code tutorial + extra-curriculum - https://pytorch.org/tutorials/beginner/saving_loading_models.html\n"
      ],
      "metadata": {
        "id": "Osb0ItYZHu7m"
      }
    },
    {
      "cell_type": "code",
      "source": [
        "# Saving a model\n",
        "\n",
        "from pathlib import Path\n",
        "\n",
        "# 1. Create models directory\n",
        "MODEL_PATH = Path(\"models\")\n",
        "MODEL_PATH.mkdir(parents=True, exist_ok=True)\n",
        "\n",
        "# 2. Create model save path\n",
        "MODEL_NAME = \"01_pytorch_workflow_model_0.pth\"\n",
        "MODEL_SAVE_PATH = MODEL_PATH / MODEL_NAME\n",
        "\n",
        "# 3. Save the model state dict\n",
        "print(f\"Saving model to : {MODEL_SAVE_PATH}\")\n",
        "torch.save(obj=model_0.state_dict(),\n",
        "          f=MODEL_SAVE_PATH)"
      ],
      "metadata": {
        "colab": {
          "base_uri": "https://localhost:8080/"
        },
        "id": "4s8Fv1HdM1a_",
        "outputId": "2bf61b7b-cf2e-4554-c677-af06eac61691"
      },
      "execution_count": null,
      "outputs": [
        {
          "output_type": "stream",
          "name": "stdout",
          "text": [
            "Saving model to : models/01_pytorch_workflow_model_0.pth\n"
          ]
        }
      ]
    },
    {
      "cell_type": "markdown",
      "source": [
        "## Loading a PyTorch model\n",
        "\n",
        "Since we saved our model's `state_dict()` rather the entire model, we'll create a new instance of our model class and load the saved `state_dict()` into that"
      ],
      "metadata": {
        "id": "vKNDd_AWNbwd"
      }
    },
    {
      "cell_type": "code",
      "source": [
        "# Loading a PyTorch model\n",
        "\n",
        "# To load in a saved state_dict we have to instantiate a new instance of our model class\n",
        "loaded_model_0 = LinearRegressionModel()\n",
        "\n",
        "# Load the saved state_dict of model_0 (this will update the new instance with updated parameters)\n",
        "loaded_model_0.load_state_dict(torch.load(f=MODEL_SAVE_PATH))\n",
        "\n",
        "# Make some predicitons with a loaded model\n",
        "loaded_model_0.eval()\n",
        "with torch.inference_mode():\n",
        "  loaded_model_pred = loaded_model_0(X_test)\n",
        "\n",
        "loaded_model_pred"
      ],
      "metadata": {
        "colab": {
          "base_uri": "https://localhost:8080/"
        },
        "id": "ucCeVGkMF31_",
        "outputId": "1825bc5f-4a12-451e-a538-ae67a753958c"
      },
      "execution_count": null,
      "outputs": [
        {
          "output_type": "execute_result",
          "data": {
            "text/plain": [
              "tensor([[0.8140],\n",
              "        [0.8256],\n",
              "        [0.8371],\n",
              "        [0.8487],\n",
              "        [0.8603],\n",
              "        [0.8719],\n",
              "        [0.8835],\n",
              "        [0.8950],\n",
              "        [0.9066],\n",
              "        [0.9182]])"
            ]
          },
          "metadata": {},
          "execution_count": 17
        }
      ]
    },
    {
      "cell_type": "code",
      "source": [
        "# Compare loaded model preds with original model preds\n",
        "y_preds == loaded_model_pred"
      ],
      "metadata": {
        "colab": {
          "base_uri": "https://localhost:8080/"
        },
        "id": "hTpP7KnvLxGS",
        "outputId": "1db09f2e-4aa1-4645-a65e-2613d9e6731c"
      },
      "execution_count": null,
      "outputs": [
        {
          "output_type": "execute_result",
          "data": {
            "text/plain": [
              "tensor([[True],\n",
              "        [True],\n",
              "        [True],\n",
              "        [True],\n",
              "        [True],\n",
              "        [True],\n",
              "        [True],\n",
              "        [True],\n",
              "        [True],\n",
              "        [True]])"
            ]
          },
          "metadata": {},
          "execution_count": 18
        }
      ]
    },
    {
      "cell_type": "markdown",
      "source": [
        "## 6. Putting it all together\n",
        "\n",
        "Let's go back throught the steps above and see it all in one place."
      ],
      "metadata": {
        "id": "MC-Cw6mAmztt"
      }
    },
    {
      "cell_type": "code",
      "source": [
        "# Import PyTorch and Matplotlib\n",
        "import torch\n",
        "from torch import nn\n",
        "import matplotlib.pyplot as plt\n",
        "\n",
        "# Chack PyTorch version\n",
        "torch.__version__"
      ],
      "metadata": {
        "colab": {
          "base_uri": "https://localhost:8080/",
          "height": 36
        },
        "id": "wTzp3TWanbmM",
        "outputId": "044c0524-9f32-4379-f469-5acce597746a"
      },
      "execution_count": null,
      "outputs": [
        {
          "output_type": "execute_result",
          "data": {
            "text/plain": [
              "'2.0.1+cu118'"
            ],
            "application/vnd.google.colaboratory.intrinsic+json": {
              "type": "string"
            }
          },
          "metadata": {},
          "execution_count": 19
        }
      ]
    },
    {
      "cell_type": "code",
      "source": [
        "#Setup device agnostic code (if you need)\n",
        "device = \"cuda\" if torch.cuda.is_available() else \"cpu\"\n",
        "print(f\"device {device}\")"
      ],
      "metadata": {
        "colab": {
          "base_uri": "https://localhost:8080/"
        },
        "id": "4X6mZkPMoTtt",
        "outputId": "1682cb88-fda9-4592-fabe-9feff8bae246"
      },
      "execution_count": null,
      "outputs": [
        {
          "output_type": "stream",
          "name": "stdout",
          "text": [
            "device cuda\n"
          ]
        }
      ]
    },
    {
      "cell_type": "markdown",
      "source": [
        "### 6.1 Data"
      ],
      "metadata": {
        "id": "nZmaEHncnAu2"
      }
    },
    {
      "cell_type": "code",
      "source": [
        "# Create some data using the linear regression formula of y = weight * X + bias\n",
        "\n",
        "weight = -1\n",
        "bias = 2\n",
        "\n",
        "# Create range values\n",
        "start = 0\n",
        "end = 5\n",
        "step = 0.05\n",
        "\n",
        "# Create X and y (features and labels)\n",
        "X = torch.arange(start,end,step).unsqueeze(dim=1) # without unsqueeze errors will pop up\n",
        "\n",
        "y = weight * X + bias\n",
        "\n",
        "print(len(X),len(y))\n",
        "X[:10], y[:10]\n"
      ],
      "metadata": {
        "colab": {
          "base_uri": "https://localhost:8080/"
        },
        "id": "QKofKuLdpZ2r",
        "outputId": "ca18cae2-c9f0-4a17-bba5-52eb43aae865"
      },
      "execution_count": null,
      "outputs": [
        {
          "output_type": "stream",
          "name": "stdout",
          "text": [
            "100 100\n"
          ]
        },
        {
          "output_type": "execute_result",
          "data": {
            "text/plain": [
              "(tensor([[0.0000],\n",
              "         [0.0500],\n",
              "         [0.1000],\n",
              "         [0.1500],\n",
              "         [0.2000],\n",
              "         [0.2500],\n",
              "         [0.3000],\n",
              "         [0.3500],\n",
              "         [0.4000],\n",
              "         [0.4500]]),\n",
              " tensor([[2.0000],\n",
              "         [1.9500],\n",
              "         [1.9000],\n",
              "         [1.8500],\n",
              "         [1.8000],\n",
              "         [1.7500],\n",
              "         [1.7000],\n",
              "         [1.6500],\n",
              "         [1.6000],\n",
              "         [1.5500]]))"
            ]
          },
          "metadata": {},
          "execution_count": 21
        }
      ]
    },
    {
      "cell_type": "code",
      "source": [
        "# Split data\n",
        "train_split = int(0.8 * len(X))\n",
        "X_train , y_train = X[:train_split], y[:train_split]\n",
        "X_test , y_test = X[train_split:], y[train_split:]\n",
        "print(len(X_train),len(y_train),len(X_test),len(y_test))"
      ],
      "metadata": {
        "colab": {
          "base_uri": "https://localhost:8080/"
        },
        "id": "xHxGXRebrdwN",
        "outputId": "42a2f0db-8151-4e98-df81-053cc6694ac5"
      },
      "execution_count": null,
      "outputs": [
        {
          "output_type": "stream",
          "name": "stdout",
          "text": [
            "80 80 20 20\n"
          ]
        }
      ]
    },
    {
      "cell_type": "code",
      "source": [
        "# Visualizing / Plot the data\n",
        "\n",
        "plot_predictions(X_train , y_train , X_test , y_test)"
      ],
      "metadata": {
        "colab": {
          "base_uri": "https://localhost:8080/",
          "height": 599
        },
        "id": "jBPDfStUreS0",
        "outputId": "669824b5-8f3d-4b09-bff8-a4ea3480cc01"
      },
      "execution_count": null,
      "outputs": [
        {
          "output_type": "display_data",
          "data": {
            "text/plain": [
              "<Figure size 1000x700 with 1 Axes>"
            ],
            "image/png": "[encoded data removed]"
          },
          "metadata": {}
        }
      ]
    },
    {
      "cell_type": "markdown",
      "source": [
        "## Building a PyTorch Linear model"
      ],
      "metadata": {
        "id": "CcYGhku8rek0"
      }
    },
    {
      "cell_type": "code",
      "source": [
        "# Create a linear model by subclassing nn.Module\n",
        "class LinearRegressionModelV2(nn.Module):\n",
        "  def __init__(self):\n",
        "    super().__init__()\n",
        "    # Use nn.Linear() for creating the model parameters / also called \"linear transform\"\n",
        "    self.linear_layer = nn.Linear(in_features=1,\n",
        "                                  out_features=1)\n",
        "    \n",
        "  def forward(self,x: torch.Tensor) -> torch.Tensor:\n",
        "    return self.linear_layer(x)\n",
        "\n",
        "# Set the manual seed\n",
        "torch.manual_seed(42)\n",
        "\n",
        "model = LinearRegressionModelV2()\n",
        "\n",
        "model.state_dict()"
      ],
      "metadata": {
        "colab": {
          "base_uri": "https://localhost:8080/"
        },
        "id": "__LycZ01re0k",
        "outputId": "61a6b8db-43da-43ae-e959-db7e51cc666c"
      },
      "execution_count": null,
      "outputs": [
        {
          "output_type": "execute_result",
          "data": {
            "text/plain": [
              "OrderedDict([('linear_layer.weight', tensor([[0.7645]])),\n",
              "             ('linear_layer.bias', tensor([0.8300]))])"
            ]
          },
          "metadata": {},
          "execution_count": 24
        }
      ]
    },
    {
      "cell_type": "code",
      "source": [
        "model.to(device)\n",
        "next(model.parameters()).device"
      ],
      "metadata": {
        "colab": {
          "base_uri": "https://localhost:8080/"
        },
        "id": "BYSZ63AdxEo1",
        "outputId": "639c479c-4377-45f8-91f7-b38158edfb2a"
      },
      "execution_count": null,
      "outputs": [
        {
          "output_type": "execute_result",
          "data": {
            "text/plain": [
              "device(type='cuda', index=0)"
            ]
          },
          "metadata": {},
          "execution_count": 25
        }
      ]
    },
    {
      "cell_type": "markdown",
      "source": [
        "### 6.3 Training\n",
        "For training we need:\n",
        "* Los funciton\n",
        "* Optimizer\n",
        "* Training loop\n",
        "* Testing loop"
      ],
      "metadata": {
        "id": "-mnvz6JIpnZn"
      }
    },
    {
      "cell_type": "code",
      "source": [
        "# Setup a loss function\n",
        "\n",
        "loss_fn = nn.L1Loss() # the same as MAE\n",
        "\n",
        "# Setup our optimizer\n",
        "optimizer = torch.optim.SGD(params = model.parameters(),\n",
        "                            lr=0.0001)\n"
      ],
      "metadata": {
        "id": "pYCKz3Qoq0Eo"
      },
      "execution_count": null,
      "outputs": []
    },
    {
      "cell_type": "code",
      "source": [
        "# Let's write a training loop\n",
        "torch.manual_seed(42)\n",
        "\n",
        "epochs = 100000\n",
        "\n",
        "# Put data on the target device (device agnostic code for data)\n",
        "X_train = X_train.to(device)\n",
        "y_train = y_train.to(device)\n",
        "\n",
        "X_test = X_test.to(device)\n",
        "y_test = y_test.to(device)\n",
        "\n",
        "for epoch in range(epochs):\n",
        "  model.train()\n",
        "\n",
        "  # 1. Forward pass\n",
        "  y_pred = model(X_train)\n",
        "\n",
        "  # 2. Calculate the Loss\n",
        "  loss = loss_fn(y_pred, y_train)\n",
        "\n",
        "  # 3. Optimizer zero grad\n",
        "  optimizer.zero_grad()\n",
        "\n",
        "  # 4. Pefrorm backpropagation\n",
        "  loss.backward()\n",
        "\n",
        "  # 5. Optimizer step\n",
        "  optimizer.step()\n",
        "\n",
        "  ### Testing\n",
        "  model.eval()\n",
        "  with torch.inference_mode():\n",
        "    test_pred = model(X_test)\n",
        "\n",
        "    test_loss = loss_fn(test_pred , y_test)\n",
        "  \n",
        "  # Print out what's happening\n",
        "  if epoch % 10000 == 0:\n",
        "    print(f\"Epoch: {epoch} / Loss: {loss} / Test_loss: {test_loss}\")\n",
        "\n"
      ],
      "metadata": {
        "colab": {
          "base_uri": "https://localhost:8080/"
        },
        "id": "KDKGuIigrv1d",
        "outputId": "4b3c76a0-4f20-4b85-d6b6-73a226c8ddc7"
      },
      "execution_count": null,
      "outputs": [
        {
          "output_type": "stream",
          "name": "stdout",
          "text": [
            "Epoch: 0 / Loss: 0.418596088886261 / Test_loss: 0.6567800641059875\n",
            "Epoch: 10000 / Loss: 0.2640666663646698 / Test_loss: 0.414311021566391\n",
            "Epoch: 20000 / Loss: 0.10953723639249802 / Test_loss: 0.1718258112668991\n",
            "Epoch: 30000 / Loss: 0.00043994467705488205 / Test_loss: 1.0561942872300278e-05\n",
            "Epoch: 40000 / Loss: 0.00043994467705488205 / Test_loss: 1.0561942872300278e-05\n",
            "Epoch: 50000 / Loss: 0.00043994467705488205 / Test_loss: 1.0561942872300278e-05\n",
            "Epoch: 60000 / Loss: 0.00043994467705488205 / Test_loss: 1.0561942872300278e-05\n",
            "Epoch: 70000 / Loss: 0.00043994467705488205 / Test_loss: 1.0561942872300278e-05\n",
            "Epoch: 80000 / Loss: 0.00043994467705488205 / Test_loss: 1.0561942872300278e-05\n",
            "Epoch: 90000 / Loss: 0.00043994467705488205 / Test_loss: 1.0561942872300278e-05\n"
          ]
        }
      ]
    },
    {
      "cell_type": "code",
      "source": [
        "model.state_dict()"
      ],
      "metadata": {
        "colab": {
          "base_uri": "https://localhost:8080/"
        },
        "id": "WcsWxAiD0w4m",
        "outputId": "7bcf68eb-c72e-43f3-a590-2f6e89ceca9f"
      },
      "execution_count": null,
      "outputs": [
        {
          "output_type": "execute_result",
          "data": {
            "text/plain": [
              "OrderedDict([('linear_layer.weight', tensor([[-0.9998]], device='cuda:0')),\n",
              "             ('linear_layer.bias', tensor([2.0000], device='cuda:0'))])"
            ]
          },
          "metadata": {},
          "execution_count": 37
        }
      ]
    },
    {
      "cell_type": "markdown",
      "source": [
        "### 6.4 Making and evaluating predicitons"
      ],
      "metadata": {
        "id": "ly6IutlG2w8z"
      }
    },
    {
      "cell_type": "code",
      "source": [
        "# Turn model into evaluation mode\n",
        "model.eval()\n",
        "# Make predicitons on the test data\n",
        "with torch.inference_mode():\n",
        "  y_preds = model(X_test)\n",
        "y_preds[:10]\n",
        "len(y_preds),len(X_test)"
      ],
      "metadata": {
        "colab": {
          "base_uri": "https://localhost:8080/"
        },
        "id": "bFZ7DFr_xBNZ",
        "outputId": "1d933ad0-01ef-41ff-ea8a-92684e37607a"
      },
      "execution_count": null,
      "outputs": [
        {
          "output_type": "execute_result",
          "data": {
            "text/plain": [
              "(20, 20)"
            ]
          },
          "metadata": {},
          "execution_count": 38
        }
      ]
    },
    {
      "cell_type": "code",
      "source": [
        "# Check out our predicitons visually\n",
        "plot_predictions(X_train.cpu() , y_train.cpu() , X_test.cpu() , y_test.cpu() , predictions = y_preds.cpu())"
      ],
      "metadata": {
        "colab": {
          "base_uri": "https://localhost:8080/",
          "height": 599
        },
        "id": "C2ajeC2tzDlb",
        "outputId": "18a240ff-2a1b-4fa1-83db-e7c2c8e3e6b5"
      },
      "execution_count": null,
      "outputs": [
        {
          "output_type": "display_data",
          "data": {
            "text/plain": [
              "<Figure size 1000x700 with 1 Axes>"
            ],
            "image/png": "[encoded data removed]"
          },
          "metadata": {}
        }
      ]
    },
    {
      "cell_type": "markdown",
      "source": [
        "### 6.5 Saving and loadnig a trained model\n"
      ],
      "metadata": {
        "id": "0jWSyjOsKMqn"
      }
    },
    {
      "cell_type": "code",
      "source": [
        "# Saving\n",
        "\n",
        "from pathlib import Path\n",
        "\n",
        "# 1. Create model directory\n",
        "MODEL_PATH = Path(\"models\")\n",
        "MODEL_PATH.mkdir(parents=True, exist_ok=True)\n",
        "\n",
        "# 2. Create model save path\n",
        "MODEL_NAME = \"02_pytorch_workfow_bigger_model.pth\"\n",
        "MODEL_SAVE_PATH = MODEL_PATH / MODEL_NAME\n",
        "\n",
        "# 3. Save the model state dict\n",
        "print(f\"Saving model to : {MODEL_SAVE_PATH}\")\n",
        "torch.save(obj=model.state_dict(),\n",
        "           f=MODEL_SAVE_PATH)\n"
      ],
      "metadata": {
        "colab": {
          "base_uri": "https://localhost:8080/"
        },
        "id": "K_IaT0DkKS96",
        "outputId": "442aa78a-bb4d-4c9a-8693-a554a2d2e493"
      },
      "execution_count": null,
      "outputs": [
        {
          "output_type": "stream",
          "name": "stdout",
          "text": [
            "Saving model to : models/02_pytorch_workfow_bigger_model.pth\n"
          ]
        }
      ]
    },
    {
      "cell_type": "code",
      "source": [
        "# Loading \n",
        "\n",
        "# To load in a saved state_dict we have to instantiate a new instance of our model class\n",
        "loaded_model = LinearRegressionModelV2()\n",
        "\n",
        "# Load the saved state_dict of model\n",
        "loaded_model.load_state_dict(torch.load(f=\"models/02_pytorch_workfow_bigger_model.pth\"))\n",
        "\n",
        "# Put the loaded model to device\n",
        "loaded_model.to(device)\n",
        "\n",
        "# Make some predicitons with laoded model\n",
        "loaded_model.eval()\n",
        "with torch.inference_mode():\n",
        "  loaded_model_pred = loaded_model(X_test)\n",
        "loaded_model_pred[:10]"
      ],
      "metadata": {
        "colab": {
          "base_uri": "https://localhost:8080/"
        },
        "id": "BNS45618LyZW",
        "outputId": "7451f964-6cd9-4cea-9ab7-c4bdec77146a"
      },
      "execution_count": 53,
      "outputs": [
        {
          "output_type": "execute_result",
          "data": {
            "text/plain": [
              "tensor([[-1.9991],\n",
              "        [-2.0491],\n",
              "        [-2.0991],\n",
              "        [-2.1491],\n",
              "        [-2.1991],\n",
              "        [-2.2491],\n",
              "        [-2.2990],\n",
              "        [-2.3490],\n",
              "        [-2.3990],\n",
              "        [-2.4490]], device='cuda:0')"
            ]
          },
          "metadata": {},
          "execution_count": 53
        }
      ]
    },
    {
      "cell_type": "code",
      "source": [
        "next(loaded_model.parameters()).device"
      ],
      "metadata": {
        "colab": {
          "base_uri": "https://localhost:8080/"
        },
        "id": "xAj_tcuEPr1X",
        "outputId": "f59a184d-4d7a-4343-bd52-4d4ffd2a345c"
      },
      "execution_count": 58,
      "outputs": [
        {
          "output_type": "execute_result",
          "data": {
            "text/plain": [
              "device(type='cuda', index=0)"
            ]
          },
          "metadata": {},
          "execution_count": 58
        }
      ]
    },
    {
      "cell_type": "code",
      "source": [
        "y_preds[:10] == loaded_model_pred[:10]"
      ],
      "metadata": {
        "colab": {
          "base_uri": "https://localhost:8080/"
        },
        "id": "MgoGfg9RPNkw",
        "outputId": "78ea148d-d36f-4012-ceb0-d7c0140e3953"
      },
      "execution_count": 56,
      "outputs": [
        {
          "output_type": "execute_result",
          "data": {
            "text/plain": [
              "tensor([[True],\n",
              "        [True],\n",
              "        [True],\n",
              "        [True],\n",
              "        [True],\n",
              "        [True],\n",
              "        [True],\n",
              "        [True],\n",
              "        [True],\n",
              "        [True]], device='cuda:0')"
            ]
          },
          "metadata": {},
          "execution_count": 56
        }
      ]
    },
    {
      "cell_type": "code",
      "source": [
        "plot_predictions(X_train.cpu() , y_train.cpu() , X_test.cpu() , y_test.cpu() , predictions = loaded_model_pred.cpu())"
      ],
      "metadata": {
        "colab": {
          "base_uri": "https://localhost:8080/",
          "height": 599
        },
        "id": "1fpv8lCFNHap",
        "outputId": "a4e3222a-8a09-4d1c-a69d-c81122bafa11"
      },
      "execution_count": 60,
      "outputs": [
        {
          "output_type": "display_data",
          "data": {
            "text/plain": [
              "<Figure size 1000x700 with 1 Axes>"
            ],
            "image/png": "[encoded data removed]"
          },
          "metadata": {}
        }
      ]
    }
  ]
}